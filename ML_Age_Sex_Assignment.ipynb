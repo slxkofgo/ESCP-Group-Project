{
 "cells": [
  {
   "cell_type": "code",
   "execution_count": null,
   "metadata": {
    "colab": {},
    "colab_type": "code",
    "id": "zoAaEfF-PktU"
   },
   "outputs": [],
   "source": [
    "import pandas as pd\n",
    "import numpy as np"
   ]
  },
  {
   "cell_type": "code",
   "execution_count": null,
   "metadata": {
    "colab": {},
    "colab_type": "code",
    "id": "DrmaFGfzPktY"
   },
   "outputs": [],
   "source": [
    "train=pd.read_csv(\"train.csv\", encoding='utf8')"
   ]
  },
  {
   "cell_type": "code",
   "execution_count": null,
   "metadata": {
    "colab": {
     "base_uri": "https://localhost:8080/",
     "height": 204
    },
    "colab_type": "code",
    "id": "Mq78GU6fPktb",
    "outputId": "d737a1fd-627b-432f-9a40-72d08f98f16f"
   },
   "outputs": [
    {
     "data": {
      "text/html": [
       "<div>\n",
       "<style scoped>\n",
       "    .dataframe tbody tr th:only-of-type {\n",
       "        vertical-align: middle;\n",
       "    }\n",
       "\n",
       "    .dataframe tbody tr th {\n",
       "        vertical-align: top;\n",
       "    }\n",
       "\n",
       "    .dataframe thead th {\n",
       "        text-align: right;\n",
       "    }\n",
       "</style>\n",
       "<table border=\"1\" class=\"dataframe\">\n",
       "  <thead>\n",
       "    <tr style=\"text-align: right;\">\n",
       "      <th></th>\n",
       "      <th>ID</th>\n",
       "      <th>keywords</th>\n",
       "      <th>age</th>\n",
       "      <th>sex</th>\n",
       "    </tr>\n",
       "  </thead>\n",
       "  <tbody>\n",
       "    <tr>\n",
       "      <th>0</th>\n",
       "      <td>1</td>\n",
       "      <td>fibre:16;quoi:1;dangers:1;combien:1;hightech:1...</td>\n",
       "      <td>62.0</td>\n",
       "      <td>F</td>\n",
       "    </tr>\n",
       "    <tr>\n",
       "      <th>1</th>\n",
       "      <td>2</td>\n",
       "      <td>restaurant:1;marrakech.shtml:1</td>\n",
       "      <td>35.0</td>\n",
       "      <td>M</td>\n",
       "    </tr>\n",
       "    <tr>\n",
       "      <th>2</th>\n",
       "      <td>3</td>\n",
       "      <td>payer:1;faq:1;taxe:1;habitation:1;macron:1;qui...</td>\n",
       "      <td>45.0</td>\n",
       "      <td>F</td>\n",
       "    </tr>\n",
       "    <tr>\n",
       "      <th>3</th>\n",
       "      <td>4</td>\n",
       "      <td>rigaud:3;laurent:3;photo:11;profile:8;photopro...</td>\n",
       "      <td>46.0</td>\n",
       "      <td>F</td>\n",
       "    </tr>\n",
       "    <tr>\n",
       "      <th>4</th>\n",
       "      <td>5</td>\n",
       "      <td>societe:1;disparition:1;proche:1;m%c3%a9lanie....</td>\n",
       "      <td>42.0</td>\n",
       "      <td>F</td>\n",
       "    </tr>\n",
       "  </tbody>\n",
       "</table>\n",
       "</div>"
      ],
      "text/plain": [
       "   ID                                           keywords   age sex\n",
       "0   1  fibre:16;quoi:1;dangers:1;combien:1;hightech:1...  62.0   F\n",
       "1   2                     restaurant:1;marrakech.shtml:1  35.0   M\n",
       "2   3  payer:1;faq:1;taxe:1;habitation:1;macron:1;qui...  45.0   F\n",
       "3   4  rigaud:3;laurent:3;photo:11;profile:8;photopro...  46.0   F\n",
       "4   5  societe:1;disparition:1;proche:1;m%c3%a9lanie....  42.0   F"
      ]
     },
     "execution_count": 30,
     "metadata": {
      "tags": []
     },
     "output_type": "execute_result"
    }
   ],
   "source": [
    "train.head()"
   ]
  },
  {
   "cell_type": "code",
   "execution_count": null,
   "metadata": {
    "colab": {},
    "colab_type": "code",
    "id": "OAFzkV8_4l26"
   },
   "outputs": [],
   "source": [
    "train=train[1:10000]"
   ]
  },
  {
   "cell_type": "code",
   "execution_count": null,
   "metadata": {
    "colab": {
     "base_uri": "https://localhost:8080/",
     "height": 34
    },
    "colab_type": "code",
    "id": "M4b76_UKPkte",
    "outputId": "530f18d6-f206-4839-b024-d94467f00a6a"
   },
   "outputs": [
    {
     "data": {
      "text/plain": [
       "3058583"
      ]
     },
     "execution_count": 31,
     "metadata": {
      "tags": []
     },
     "output_type": "execute_result"
    }
   ],
   "source": [
    "len(train)"
   ]
  },
  {
   "cell_type": "code",
   "execution_count": null,
   "metadata": {
    "colab": {
     "base_uri": "https://localhost:8080/",
     "height": 102
    },
    "colab_type": "code",
    "id": "SseRkjWVPkth",
    "outputId": "f54b4a1f-64b1-479a-c13d-a87fbdf6381d"
   },
   "outputs": [
    {
     "data": {
      "text/plain": [
       "ID               0\n",
       "keywords    340459\n",
       "age              1\n",
       "sex              1\n",
       "dtype: int64"
      ]
     },
     "execution_count": 32,
     "metadata": {
      "tags": []
     },
     "output_type": "execute_result"
    }
   ],
   "source": [
    "train.isnull().sum()"
   ]
  },
  {
   "cell_type": "code",
   "execution_count": null,
   "metadata": {
    "colab": {},
    "colab_type": "code",
    "id": "sLxTQxYKPktk"
   },
   "outputs": [],
   "source": [
    "train=train.dropna()"
   ]
  },
  {
   "cell_type": "code",
   "execution_count": null,
   "metadata": {
    "colab": {
     "base_uri": "https://localhost:8080/",
     "height": 34
    },
    "colab_type": "code",
    "id": "aq_6eIw-Pktm",
    "outputId": "9f938789-b848-4b77-f114-014881d976bc"
   },
   "outputs": [
    {
     "data": {
      "text/plain": [
       "2718123"
      ]
     },
     "execution_count": 34,
     "metadata": {
      "tags": []
     },
     "output_type": "execute_result"
    }
   ],
   "source": [
    "len(train)"
   ]
  },
  {
   "cell_type": "code",
   "execution_count": null,
   "metadata": {
    "colab": {},
    "colab_type": "code",
    "id": "Usjc3eKXPktq"
   },
   "outputs": [],
   "source": [
    "train.drop(['ID'],axis = 1,inplace = True)"
   ]
  },
  {
   "cell_type": "code",
   "execution_count": null,
   "metadata": {
    "colab": {
     "base_uri": "https://localhost:8080/",
     "height": 204
    },
    "colab_type": "code",
    "id": "-LtU4acsPktt",
    "outputId": "3a97723c-851a-455d-a44d-8f5f905f79de"
   },
   "outputs": [
    {
     "data": {
      "text/html": [
       "<div>\n",
       "<style scoped>\n",
       "    .dataframe tbody tr th:only-of-type {\n",
       "        vertical-align: middle;\n",
       "    }\n",
       "\n",
       "    .dataframe tbody tr th {\n",
       "        vertical-align: top;\n",
       "    }\n",
       "\n",
       "    .dataframe thead th {\n",
       "        text-align: right;\n",
       "    }\n",
       "</style>\n",
       "<table border=\"1\" class=\"dataframe\">\n",
       "  <thead>\n",
       "    <tr style=\"text-align: right;\">\n",
       "      <th></th>\n",
       "      <th>keywords</th>\n",
       "      <th>age</th>\n",
       "      <th>sex</th>\n",
       "    </tr>\n",
       "  </thead>\n",
       "  <tbody>\n",
       "    <tr>\n",
       "      <th>0</th>\n",
       "      <td>fibre:16;quoi:1;dangers:1;combien:1;hightech:1...</td>\n",
       "      <td>62.0</td>\n",
       "      <td>F</td>\n",
       "    </tr>\n",
       "    <tr>\n",
       "      <th>1</th>\n",
       "      <td>restaurant:1;marrakech.shtml:1</td>\n",
       "      <td>35.0</td>\n",
       "      <td>M</td>\n",
       "    </tr>\n",
       "    <tr>\n",
       "      <th>2</th>\n",
       "      <td>payer:1;faq:1;taxe:1;habitation:1;macron:1;qui...</td>\n",
       "      <td>45.0</td>\n",
       "      <td>F</td>\n",
       "    </tr>\n",
       "    <tr>\n",
       "      <th>3</th>\n",
       "      <td>rigaud:3;laurent:3;photo:11;profile:8;photopro...</td>\n",
       "      <td>46.0</td>\n",
       "      <td>F</td>\n",
       "    </tr>\n",
       "    <tr>\n",
       "      <th>4</th>\n",
       "      <td>societe:1;disparition:1;proche:1;m%c3%a9lanie....</td>\n",
       "      <td>42.0</td>\n",
       "      <td>F</td>\n",
       "    </tr>\n",
       "  </tbody>\n",
       "</table>\n",
       "</div>"
      ],
      "text/plain": [
       "                                            keywords   age sex\n",
       "0  fibre:16;quoi:1;dangers:1;combien:1;hightech:1...  62.0   F\n",
       "1                     restaurant:1;marrakech.shtml:1  35.0   M\n",
       "2  payer:1;faq:1;taxe:1;habitation:1;macron:1;qui...  45.0   F\n",
       "3  rigaud:3;laurent:3;photo:11;profile:8;photopro...  46.0   F\n",
       "4  societe:1;disparition:1;proche:1;m%c3%a9lanie....  42.0   F"
      ]
     },
     "execution_count": 36,
     "metadata": {
      "tags": []
     },
     "output_type": "execute_result"
    }
   ],
   "source": [
    "train.head()"
   ]
  },
  {
   "cell_type": "code",
   "execution_count": null,
   "metadata": {
    "colab": {},
    "colab_type": "code",
    "id": "etyWRNxxPktv"
   },
   "outputs": [],
   "source": [
    "keywords=train['keywords']"
   ]
  },
  {
   "cell_type": "code",
   "execution_count": null,
   "metadata": {
    "colab": {},
    "colab_type": "code",
    "id": "mVTnv4HpPkty"
   },
   "outputs": [],
   "source": [
    "def cleantext(keywords):\n",
    "    final_text = ''\n",
    "    for word_count in keywords.split(';'):\n",
    "        word, count = word_count.split(':')\n",
    "        count = int(count)\n",
    "        if count <= 1:\n",
    "            final_text += word + \" \"\n",
    "        else:\n",
    "            for i in range(1, count+1):\n",
    "                final_text += word + \" \"\n",
    "    return final_text"
   ]
  },
  {
   "cell_type": "code",
   "execution_count": null,
   "metadata": {
    "colab": {},
    "colab_type": "code",
    "id": "W42QHoR5Pkt0"
   },
   "outputs": [],
   "source": [
    "def cleantext2(kw):\n",
    "    try: \n",
    "        return cleantext(kw)\n",
    "    except ValueError:\n",
    "        return None"
   ]
  },
  {
   "cell_type": "code",
   "execution_count": null,
   "metadata": {
    "colab": {},
    "colab_type": "code",
    "id": "ESKLIzU9Pkt4"
   },
   "outputs": [],
   "source": [
    "train['keywords'] = train['keywords'].apply(lambda dc: cleantext2(dc))"
   ]
  },
  {
   "cell_type": "code",
   "execution_count": null,
   "metadata": {
    "colab": {},
    "colab_type": "code",
    "id": "LFgjw69kPkt6"
   },
   "outputs": [],
   "source": [
    "train=train.dropna()"
   ]
  },
  {
   "cell_type": "code",
   "execution_count": null,
   "metadata": {
    "colab": {
     "base_uri": "https://localhost:8080/",
     "height": 204
    },
    "colab_type": "code",
    "id": "C6Q4rHuEPkt8",
    "outputId": "3183e909-f9dc-44dc-c5a1-debc8b6327d7"
   },
   "outputs": [
    {
     "data": {
      "text/html": [
       "<div>\n",
       "<style scoped>\n",
       "    .dataframe tbody tr th:only-of-type {\n",
       "        vertical-align: middle;\n",
       "    }\n",
       "\n",
       "    .dataframe tbody tr th {\n",
       "        vertical-align: top;\n",
       "    }\n",
       "\n",
       "    .dataframe thead th {\n",
       "        text-align: right;\n",
       "    }\n",
       "</style>\n",
       "<table border=\"1\" class=\"dataframe\">\n",
       "  <thead>\n",
       "    <tr style=\"text-align: right;\">\n",
       "      <th></th>\n",
       "      <th>keywords</th>\n",
       "      <th>age</th>\n",
       "      <th>sex</th>\n",
       "    </tr>\n",
       "  </thead>\n",
       "  <tbody>\n",
       "    <tr>\n",
       "      <th>0</th>\n",
       "      <td>fibre fibre fibre fibre fibre fibre fibre fibr...</td>\n",
       "      <td>62.0</td>\n",
       "      <td>F</td>\n",
       "    </tr>\n",
       "    <tr>\n",
       "      <th>1</th>\n",
       "      <td>restaurant marrakech.shtml</td>\n",
       "      <td>35.0</td>\n",
       "      <td>M</td>\n",
       "    </tr>\n",
       "    <tr>\n",
       "      <th>2</th>\n",
       "      <td>payer faq taxe habitation macron qui detail pr...</td>\n",
       "      <td>45.0</td>\n",
       "      <td>F</td>\n",
       "    </tr>\n",
       "    <tr>\n",
       "      <th>3</th>\n",
       "      <td>rigaud rigaud rigaud laurent laurent laurent p...</td>\n",
       "      <td>46.0</td>\n",
       "      <td>F</td>\n",
       "    </tr>\n",
       "    <tr>\n",
       "      <th>4</th>\n",
       "      <td>societe disparition proche m%c3%a9lanie.gonide...</td>\n",
       "      <td>42.0</td>\n",
       "      <td>F</td>\n",
       "    </tr>\n",
       "  </tbody>\n",
       "</table>\n",
       "</div>"
      ],
      "text/plain": [
       "                                            keywords   age sex\n",
       "0  fibre fibre fibre fibre fibre fibre fibre fibr...  62.0   F\n",
       "1                        restaurant marrakech.shtml   35.0   M\n",
       "2  payer faq taxe habitation macron qui detail pr...  45.0   F\n",
       "3  rigaud rigaud rigaud laurent laurent laurent p...  46.0   F\n",
       "4  societe disparition proche m%c3%a9lanie.gonide...  42.0   F"
      ]
     },
     "execution_count": 18,
     "metadata": {
      "tags": []
     },
     "output_type": "execute_result"
    }
   ],
   "source": [
    "train.head()"
   ]
  },
  {
   "cell_type": "code",
   "execution_count": null,
   "metadata": {
    "colab": {},
    "colab_type": "code",
    "id": "omhl4wcEPkt_"
   },
   "outputs": [],
   "source": [
    "from sklearn.model_selection import train_test_split\n",
    "from sklearn.ensemble import RandomForestClassifier"
   ]
  },
  {
   "cell_type": "code",
   "execution_count": null,
   "metadata": {
    "colab": {},
    "colab_type": "code",
    "id": "fnbgOU1UPkuB"
   },
   "outputs": [],
   "source": [
    "X_train,X_test, y_train, y_test=train_test_split(train[\"keywords\"],train[\"sex\"],test_size=0.2, random_state=42)"
   ]
  },
  {
   "cell_type": "code",
   "execution_count": null,
   "metadata": {
    "colab": {
     "base_uri": "https://localhost:8080/",
     "height": 119
    },
    "colab_type": "code",
    "id": "mXWpGig8PkuE",
    "outputId": "10549720-2c19-44d2-ebe4-7e8d3ab72747"
   },
   "outputs": [
    {
     "data": {
      "text/plain": [
       "16644    homme maelys disparition place garde deuxieme ...\n",
       "61579    people people people people people people peop...\n",
       "27895    travaillait qui qui ingenieur les gagnants pou...\n",
       "42062    fait garde qui vue deuxieme clients teste ses ...\n",
       "68040                         jobs profile profile search \n",
       "Name: keywords, dtype: object"
      ]
     },
     "execution_count": 21,
     "metadata": {
      "tags": []
     },
     "output_type": "execute_result"
    }
   ],
   "source": [
    "X_train.head()"
   ]
  },
  {
   "cell_type": "code",
   "execution_count": null,
   "metadata": {
    "colab": {},
    "colab_type": "code",
    "id": "mZ9znu6pPkuI"
   },
   "outputs": [],
   "source": [
    "reg=RandomForestClassifier (max_depth=50, random_state=0, min_samples_leaf=3,min_samples_split=5)"
   ]
  },
  {
   "cell_type": "code",
   "execution_count": null,
   "metadata": {
    "colab": {},
    "colab_type": "code",
    "id": "86KsuhGJPkuK"
   },
   "outputs": [],
   "source": [
    "from sklearn.feature_extraction.text import CountVectorizer"
   ]
  },
  {
   "cell_type": "code",
   "execution_count": null,
   "metadata": {
    "colab": {},
    "colab_type": "code",
    "id": "0omzySbfPkuM"
   },
   "outputs": [],
   "source": [
    "vect=CountVectorizer()"
   ]
  },
  {
   "cell_type": "code",
   "execution_count": null,
   "metadata": {
    "colab": {
     "base_uri": "https://localhost:8080/",
     "height": 119
    },
    "colab_type": "code",
    "id": "nbuCDLllPkuO",
    "outputId": "0d304848-01a3-4e41-fb55-913cbfe580d8"
   },
   "outputs": [
    {
     "data": {
      "text/plain": [
       "CountVectorizer(analyzer='word', binary=False, decode_error='strict',\n",
       "                dtype=<class 'numpy.int64'>, encoding='utf-8', input='content',\n",
       "                lowercase=True, max_df=1.0, max_features=None, min_df=1,\n",
       "                ngram_range=(1, 1), preprocessor=None, stop_words=None,\n",
       "                strip_accents=None, token_pattern='(?u)\\\\b\\\\w\\\\w+\\\\b',\n",
       "                tokenizer=None, vocabulary=None)"
      ]
     },
     "execution_count": 25,
     "metadata": {
      "tags": []
     },
     "output_type": "execute_result"
    }
   ],
   "source": [
    "vect.fit(X_train)"
   ]
  },
  {
   "cell_type": "code",
   "execution_count": null,
   "metadata": {
    "colab": {},
    "colab_type": "code",
    "id": "Jd9mh28oPkuQ"
   },
   "outputs": [],
   "source": [
    "from sklearn.feature_extraction.text import TfidfVectorizer\n",
    "vectorizer = TfidfVectorizer()\n",
    "X_train = vectorizer.fit_transform(X_train)"
   ]
  },
  {
   "cell_type": "code",
   "execution_count": null,
   "metadata": {
    "colab": {},
    "colab_type": "code",
    "id": "Xci0SMppPkuS"
   },
   "outputs": [],
   "source": [
    "from sklearn import svm\n",
    "svm = svm.SVC(C=10)\n",
    "svm.fit(X_train, y_train)"
   ]
  },
  {
   "cell_type": "code",
   "execution_count": null,
   "metadata": {
    "colab": {
     "base_uri": "https://localhost:8080/",
     "height": 51
    },
    "colab_type": "code",
    "id": "M3u-Mf3jPkuU",
    "outputId": "330a96dc-ef1c-46a6-9143-88d99eb79541"
   },
   "outputs": [
    {
     "name": "stdout",
     "output_type": "stream",
     "text": [
      "[[492 409]\n",
      " [414 601]]\n"
     ]
    }
   ],
   "source": [
    "from sklearn.metrics import confusion_matrix\n",
    "X_test = vectorizer.transform(X_test)\n",
    "y_pred = svm.predict(X_test)\n",
    "print(confusion_matrix(y_test, y_pred))"
   ]
  },
  {
   "cell_type": "code",
   "execution_count": null,
   "metadata": {
    "colab": {},
    "colab_type": "code",
    "id": "teHNzY2hPkuX"
   },
   "outputs": [],
   "source": [
    "def pred(msg):\n",
    "    msg = vectorizer.transform([msg])\n",
    "    prediction = svm.predict(msg)\n",
    "    return prediction[0]"
   ]
  },
  {
   "cell_type": "code",
   "execution_count": null,
   "metadata": {
    "colab": {
     "base_uri": "https://localhost:8080/",
     "height": 34
    },
    "colab_type": "code",
    "id": "ac21lE0DPkuZ",
    "outputId": "fafdd8c2-91ff-478a-b474-190c1baae841"
   },
   "outputs": [
    {
     "data": {
      "text/plain": [
       "'M'"
      ]
     },
     "execution_count": 33,
     "metadata": {
      "tags": []
     },
     "output_type": "execute_result"
    }
   ],
   "source": [
    "pred(\"Je pratique mon francais avec ca google colabs notebook\")"
   ]
  },
  {
   "cell_type": "code",
   "execution_count": null,
   "metadata": {
    "colab": {},
    "colab_type": "code",
    "id": "1-1DkSWJN0cq"
   },
   "outputs": [],
   "source": [
    "test=pd.read_csv(\"test.csv\", encoding='utf8')"
   ]
  },
  {
   "cell_type": "code",
   "execution_count": null,
   "metadata": {
    "colab": {},
    "colab_type": "code",
    "id": "hOKdllk_eOkN"
   },
   "outputs": [],
   "source": [
    "out=reg2.predict(test)"
   ]
  },
  {
   "cell_type": "code",
   "execution_count": null,
   "metadata": {
    "colab": {},
    "colab_type": "code",
    "id": "DBv1D6PYesxN"
   },
   "outputs": [],
   "source": [
    "np.unique(out, return_counts=True)\n",
    "Results=pd.DataFrame({'Prob_Male': out[:, 2], 'Estim_Age': out[:, 3]})"
   ]
  },
  {
   "cell_type": "code",
   "execution_count": null,
   "metadata": {
    "colab": {},
    "colab_type": "code",
    "id": "bl8Jpz-Ae7Ib"
   },
   "outputs": [],
   "source": [
    "Final=pd.concat([train['ID'], train['keywords'], Results['Prob_Male'],Results['Estim_Age'], axis=1, keys=['ID', 'Keywords','Prediction Male','Estimated Age'])"
   ]
  },
  {
   "cell_type": "code",
   "execution_count": null,
   "metadata": {
    "colab": {},
    "colab_type": "code",
    "id": "HuYsoybVhtDC"
   },
   "outputs": [],
   "source": [
    "Final=Final.dropna()"
   ]
  },
  {
   "cell_type": "code",
   "execution_count": null,
   "metadata": {
    "colab": {},
    "colab_type": "code",
    "id": "xj9xaX4uhwfz"
   },
   "outputs": [],
   "source": [
    "Final['ID']=Final['ID'].round().astype(int)"
   ]
  },
  {
   "cell_type": "code",
   "execution_count": null,
   "metadata": {
    "colab": {},
    "colab_type": "code",
    "id": "5CdhaM2rh0Vz"
   },
   "outputs": [],
   "source": [
    "Final.head()"
   ]
  },
  {
   "cell_type": "code",
   "execution_count": null,
   "metadata": {
    "colab": {},
    "colab_type": "code",
    "id": "VGNLcCnUN46Q"
   },
   "outputs": [],
   "source": [
    "Final.to_csv('/Users/macbook/Desktop/ML with Python/Group Project/Group_Project-Tanasit.csv', index = False)"
   ]
  }
 ],
 "metadata": {
  "colab": {
   "collapsed_sections": [],
   "name": "ML Age Sex Assignment.ipynb",
   "provenance": [],
   "toc_visible": true
  },
  "kernelspec": {
   "display_name": "Python 3",
   "language": "python",
   "name": "python3"
  },
  "language_info": {
   "codemirror_mode": {
    "name": "ipython",
    "version": 3
   },
   "file_extension": ".py",
   "mimetype": "text/x-python",
   "name": "python",
   "nbconvert_exporter": "python",
   "pygments_lexer": "ipython3",
   "version": "3.7.4"
  }
 },
 "nbformat": 4,
 "nbformat_minor": 4
}
